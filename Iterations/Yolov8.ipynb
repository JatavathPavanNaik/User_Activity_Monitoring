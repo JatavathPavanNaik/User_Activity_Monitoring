{
 "cells": [
  {
   "cell_type": "markdown",
   "metadata": {},
   "source": [
    "# Download Any Dataset"
   ]
  },
  {
   "cell_type": "code",
   "execution_count": null,
   "metadata": {},
   "outputs": [],
   "source": [
    "from roboflow import Roboflow\n",
    "rf = Roboflow(api_key=\"qa1LKc9g1e9QJ7VWWpFU\")\n",
    "project = rf.workspace(\"webdesign\").project(\"website-3uipa\")\n",
    "version = project.version(1)\n",
    "dataset = version.download(\"yolov8\")\n"
   ]
  },
  {
   "cell_type": "code",
   "execution_count": null,
   "metadata": {},
   "outputs": [],
   "source": [
    "from roboflow import Roboflow\n",
    "rf = Roboflow(api_key=\"qa1LKc9g1e9QJ7VWWpFU\")\n",
    "project = rf.workspace(\"visualgrounding\").project(\"object-detection-9ba1m\")\n",
    "version = project.version(1)\n",
    "dataset = version.download(\"yolov8\")\n"
   ]
  },
  {
   "cell_type": "code",
   "execution_count": null,
   "metadata": {},
   "outputs": [],
   "source": [
    "from roboflow import Roboflow\n",
    "rf = Roboflow(api_key=\"qa1LKc9g1e9QJ7VWWpFU\")\n",
    "project = rf.workspace(\"object-detetction-0gxei\").project(\"object-detection-child-subset\")\n",
    "version = project.version(1)\n",
    "dataset = version.download(\"yolov8\")\n"
   ]
  },
  {
   "cell_type": "code",
   "execution_count": null,
   "metadata": {},
   "outputs": [],
   "source": [
    "from roboflow import Roboflow\n",
    "rf = Roboflow(api_key=\"qa1LKc9g1e9QJ7VWWpFU\")\n",
    "project = rf.workspace(\"visualgrounding\").project(\"object-detection-parent-data\")\n",
    "version = project.version(1)\n",
    "dataset = version.download(\"yolov8\")\n"
   ]
  },
  {
   "cell_type": "code",
   "execution_count": null,
   "metadata": {},
   "outputs": [],
   "source": [
    "from roboflow import Roboflow\n",
    "rf = Roboflow(api_key=\"qa1LKc9g1e9QJ7VWWpFU\")\n",
    "project = rf.workspace(\"shubham-choudhary-lfxur\").project(\"all_elements\")\n",
    "version = project.version(2)\n",
    "dataset = version.download(\"yolov8\")\n"
   ]
  },
  {
   "cell_type": "code",
   "execution_count": null,
   "metadata": {},
   "outputs": [],
   "source": [
    "from roboflow import Roboflow\n",
    "rf = Roboflow(api_key=\"qa1LKc9g1e9QJ7VWWpFU\")\n",
    "project = rf.workspace(\"roboflow-gw7yv\").project(\"website-screenshots\")\n",
    "version = project.version(1)\n",
    "dataset = version.download(\"yolov8\")\n"
   ]
  },
  {
   "cell_type": "markdown",
   "metadata": {},
   "source": [
    "# Train Model Thourgh CMD"
   ]
  },
  {
   "cell_type": "code",
   "execution_count": null,
   "metadata": {},
   "outputs": [],
   "source": [
    "!yolo task=detect mode=train model=yolov8s.pt data=/Users/jatavathpavannaik/Documents/python/Computer_Vision/YOLOV8/dataset-v2-1/data.yaml epochs=100 imgsz=224 plots=True"
   ]
  },
  {
   "cell_type": "code",
   "execution_count": null,
   "metadata": {},
   "outputs": [],
   "source": [
    "import torch\n",
    "from ultralytics import YOLO\n",
    "\n",
    "\n",
    "model = YOLO(\"/Users/jatavathpavannaik/Documents/python/Computer_Vision/YOLOV8/runs/detect/train/weights/last.pt\")\n",
    "\n",
    "model.train(resume=True)"
   ]
  },
  {
   "cell_type": "markdown",
   "metadata": {},
   "source": [
    "# Predict Through CMD"
   ]
  },
  {
   "cell_type": "code",
   "execution_count": null,
   "metadata": {},
   "outputs": [],
   "source": [
    "!yolo task=detect mode=predict model=/Users/jatavathpavannaik/Documents/python/Computer_Vision/YOLOV8/runs/detect/train_cpu/weights/best.pt conf=0.1 source=/Users/jatavathpavannaik/Documents/python/Computer_Vision/Booking.com.png"
   ]
  },
  {
   "cell_type": "markdown",
   "metadata": {},
   "source": [
    "# Predict Using Python"
   ]
  },
  {
   "cell_type": "code",
   "execution_count": null,
   "metadata": {},
   "outputs": [],
   "source": [
    "from ultralytics import YOLO\n",
    "\n",
    "# Initialize the YOLO model\n",
    "model = YOLO(\"/Users/jatavathpavannaik/Documents/python/Computer_Vision/Yolo/runs/detect/train/weights/best.pt\")\n",
    "\n",
    "# Make predictions\n",
    "results = model.predict(\"/Users/jatavathpavannaik/Documents/python/Computer_Vision/airbnb_1.png\")\n",
    "\n",
    "boxes = results[0].boxes.xyxy.tolist()\n",
    "classes = results[0].boxes.cls.tolist()\n",
    "names = results[0].names\n",
    "confidences = results[0].boxes.conf.tolist()\n",
    "\n",
    "# Iterate through the results\n",
    "for box, cls, conf in zip(boxes, classes, confidences):\n",
    "    x1, y1, x2, y2 = box\n",
    "    confidence = conf\n",
    "    detected_class = cls\n",
    "    name = names[int(cls)]\n",
    "    \n"
   ]
  },
  {
   "cell_type": "markdown",
   "metadata": {},
   "source": [
    "# Use Case"
   ]
  },
  {
   "cell_type": "code",
   "execution_count": null,
   "metadata": {},
   "outputs": [],
   "source": [
    "import cv2\n",
    "from ultralytics import YOLO\n",
    "\n",
    "# Initialize the YOLO model\n",
    "model = YOLO(\"/Users/jatavathpavannaik/Documents/python/Computer_Vision/YOLOV8/runs/detect/train_cpu/weights/best.pt\")\n",
    "\n",
    "# Open video capture\n",
    "cap = cv2.VideoCapture('/Users/jatavathpavannaik/Documents/python/Computer_Vision/Bookin.com_Staganent.mov')  # Replace 'path_to_video.mp4' with your video file\n",
    "  # Replace 'path_to_video.mp4' with your video file\n",
    "fps = cap.get(cv2.CAP_PROP_FPS)\n",
    "# Create a list to store areas of bounding boxes for each frame\n",
    "all_areas = []\n",
    "\n",
    "frame_number = 0\n",
    "\n",
    "while cap.isOpened():\n",
    "    ret, frame = cap.read()\n",
    "    if not ret:\n",
    "        break\n",
    "    \n",
    "    frame_number += 1\n",
    "    \n",
    "    # Make predictions\n",
    "    results = model.predict(frame)\n",
    "    \n",
    "    # Extract bounding box information\n",
    "    boxes = results[0].boxes.xyxy.tolist()\n",
    "    classes = results[0].boxes.cls.tolist()\n",
    "    names = results[0].names\n",
    "    confidences = results[0].boxes.conf.tolist()\n",
    "    \n",
    "    # Draw bounding boxes on the frame and calculate areas\n",
    "    areas=[]\n",
    "    for box, cls, conf in zip(boxes, classes, confidences):\n",
    "        x1, y1, x2, y2 = box\n",
    "        class_name = names[int(cls)]\n",
    "        color = (0, 255, 0)  # Green color for bounding box\n",
    "        cv2.rectangle(frame, (int(x1), int(y1)), (int(x2), int(y2)), color, 2)\n",
    "        cv2.putText(frame, f'{class_name} {conf:.2f}', (int(x1), int(y1 - 10)), cv2.FONT_HERSHEY_SIMPLEX, 0.5, color, 2)\n",
    "        \n",
    "        # Calculate area\n",
    "        area = (x2 - x1) * (y2 - y1)\n",
    "        areas.append(area)\n",
    "    \n",
    "    # Store areas of bounding boxes for this frame\n",
    "    all_areas.append((frame_number, areas))\n",
    "    \n",
    "    # Display the frame with bounding boxes\n",
    "    cv2.imshow('Frame', frame)\n",
    "    if cv2.waitKey(1) & 0xFF == ord('q'):\n",
    "        break\n",
    "\n",
    "# Release resources\n",
    "cap.release()\n",
    "cv2.destroyAllWindows()\n"
   ]
  },
  {
   "cell_type": "code",
   "execution_count": null,
   "metadata": {},
   "outputs": [],
   "source": [
    "all_areas"
   ]
  },
  {
   "cell_type": "code",
   "execution_count": null,
   "metadata": {},
   "outputs": [],
   "source": [
    "import pandas as pd\n",
    "\n",
    "# Assuming all_areas is a list of tuples where each tuple contains (frame_name, list_of_areas)\n",
    "sum_data = [(tup[0], sum(tup[1]), len(tup[1]), tup[1]) for tup in all_areas]\n",
    "\n",
    "# Create DataFrame\n",
    "df = pd.DataFrame(sum_data, columns=['Frame', 'Total_Area', 'No_of_Bounding_Boxes', 'Individual_Areas'])\n"
   ]
  },
  {
   "cell_type": "code",
   "execution_count": null,
   "metadata": {},
   "outputs": [],
   "source": [
    "df.to_clipboard()"
   ]
  },
  {
   "cell_type": "code",
   "execution_count": null,
   "metadata": {},
   "outputs": [],
   "source": [
    "def delete_frames_in_duplicate_series(df, duplicate_series, frame_column='Frame'):\n",
    "    df_cleaned = df.copy()\n",
    "    for start, end in duplicate_series:\n",
    "        frames_to_delete = list(range(start, end + 1))\n",
    "        df_cleaned = df_cleaned[~df_cleaned[frame_column].isin(frames_to_delete)]\n",
    "    return df_cleaned\n",
    "\n",
    "# Example usage:\n",
    "cleaned_df = delete_frames_in_duplicate_series(df, duplicate_series)\n",
    "\n"
   ]
  },
  {
   "cell_type": "code",
   "execution_count": null,
   "metadata": {},
   "outputs": [],
   "source": [
    "cleaned_df.to_clipboard()"
   ]
  },
  {
   "cell_type": "code",
   "execution_count": null,
   "metadata": {},
   "outputs": [],
   "source": [
    "cleaned_df"
   ]
  },
  {
   "cell_type": "code",
   "execution_count": null,
   "metadata": {},
   "outputs": [],
   "source": [
    "def find_duplicate_frames(df):\n",
    "        start_index = None\n",
    "        end_index = None\n",
    "        duplicate_series = []\n",
    "\n",
    "        for index, row in df.iterrows():\n",
    "            if index > 0:\n",
    "                prev_row = df.iloc[index - 1]\n",
    "                if row['No_of_Bounding_Boxes'] == prev_row['No_of_Bounding_Boxes']:\n",
    "                    areas_current = row['Individual_Areas']\n",
    "                    areas_prev = prev_row['Individual_Areas']\n",
    "                    all_diffs_less_than_100 = all(abs(area_curr - area_prev) < 100 for area_curr, area_prev in zip(areas_current, areas_prev))\n",
    "                    if all_diffs_less_than_100:\n",
    "                        if start_index is None:\n",
    "                            start_index = index - 1\n",
    "                        end_index = index\n",
    "                else:\n",
    "                    if start_index is not None:\n",
    "                        duplicate_series.append((start_index, end_index))\n",
    "                        start_index = None\n",
    "                        end_index = None\n",
    "\n",
    "        if start_index is not None:\n",
    "            duplicate_series.append((start_index, end_index))\n",
    "\n",
    "        if duplicate_series:\n",
    "            return duplicate_series\n",
    "        else:\n",
    "            print(\"No Duplicated Frames Found\")\n",
    "duplicate_series = find_duplicate_frames(df)"
   ]
  },
  {
   "cell_type": "code",
   "execution_count": null,
   "metadata": {},
   "outputs": [],
   "source": [
    "duplicate_series"
   ]
  },
  {
   "cell_type": "code",
   "execution_count": null,
   "metadata": {},
   "outputs": [],
   "source": [
    "import random\n",
    "\n",
    "frames = []\n",
    "threshold_seconds = 5  # Example threshold in seconds\n",
    "threshold_frames = int(threshold_seconds * fps)  # Convert threshold to frames\n",
    "\n",
    "for start, end in duplicate_series:\n",
    "    if end - start > threshold_frames:\n",
    "        random_index = random.randint(start, end)\n",
    "        random_row = df.iloc[random_index]\n",
    "        frames.append(random_row)\n",
    "\n",
    "if frames:\n",
    "    req_frames = pd.DataFrame(frames)\n"
   ]
  },
  {
   "cell_type": "code",
   "execution_count": null,
   "metadata": {},
   "outputs": [],
   "source": [
    "duplicate_series"
   ]
  },
  {
   "cell_type": "code",
   "execution_count": null,
   "metadata": {},
   "outputs": [],
   "source": [
    "req_frames"
   ]
  },
  {
   "cell_type": "code",
   "execution_count": null,
   "metadata": {},
   "outputs": [],
   "source": [
    "import random\n",
    "\n",
    "def select_frames_with_threshold(duplicate_series, df, fps, threshold_seconds):\n",
    "    frames = []\n",
    "    threshold_frames = int(threshold_seconds * fps)  # Convert threshold to frames\n",
    "\n",
    "    for start, end in duplicate_series:\n",
    "        if end - start > threshold_frames:\n",
    "            random_index = random.randint(start, end)\n",
    "            random_row = df.iloc[random_index]\n",
    "            frames.append(random_row)\n",
    "\n",
    "    if frames:\n",
    "        req_frames = pd.DataFrame(frames)\n",
    "        return req_frames\n",
    "    else:\n",
    "        return None"
   ]
  },
  {
   "cell_type": "code",
   "execution_count": null,
   "metadata": {},
   "outputs": [],
   "source": [
    "import pandas as pd\n",
    "\n",
    "# Assuming df is your DataFrame containing the data\n",
    "desired_rows = []\n",
    "\n",
    "for index, row in df.iterrows():\n",
    "    if index > 0:  # Skip the first row\n",
    "        prev_row = df.iloc[index - 1]  # Get the previous row\n",
    "        if row['No_of_Bounding_Boxes'] == prev_row['No_of_Bounding_Boxes']:\n",
    "            areas_current = row['Individual_Areas']\n",
    "            areas_prev = prev_row['Individual_Areas']\n",
    "            all_diffs_less_than_100 = all(abs(area_curr - area_prev) < 100 for area_curr, area_prev in zip(areas_current, areas_prev))\n",
    "            if all_diffs_less_than_100:\n",
    "                desired_rows.append(row)\n",
    "\n",
    "if desired_rows:\n",
    "    desired_df = pd.DataFrame(desired_rows)\n",
    "    print(desired_df)\n",
    "else:\n",
    "    print(\"No rows found matching the criteria.\")\n"
   ]
  },
  {
   "cell_type": "code",
   "execution_count": null,
   "metadata": {},
   "outputs": [],
   "source": [
    "numbers=desired_df[\"Frame\"].tolist()"
   ]
  },
  {
   "cell_type": "code",
   "execution_count": null,
   "metadata": {},
   "outputs": [],
   "source": [
    "def find_consecutive_sequence_indices(numbers):\n",
    "    start_index = 0\n",
    "    end_index = 0\n",
    "    result = []\n",
    "\n",
    "    for i in range(1, len(numbers)):\n",
    "        if numbers[i] == numbers[i - 1] + 1:\n",
    "            end_index = i\n",
    "        else:\n",
    "            if end_index - start_index > 0:\n",
    "                result.append((start_index, end_index))\n",
    "            start_index = i\n",
    "            end_index = i\n",
    "\n",
    "    # Check if the last sequence is consecutive\n",
    "    if end_index - start_index > 0:\n",
    "        result.append((start_index, end_index))\n",
    "\n",
    "    return result\n",
    "\n",
    "# Example usage:\n",
    "sequences = find_consecutive_sequence_indices(numbers)\n"
   ]
  },
  {
   "cell_type": "code",
   "execution_count": null,
   "metadata": {},
   "outputs": [],
   "source": [
    "Frames_to_Delete=desired_df[\"Frame\"].astype(int).to_list()"
   ]
  },
  {
   "cell_type": "code",
   "execution_count": null,
   "metadata": {},
   "outputs": [],
   "source": [
    "import cv2\n",
    "\n",
    "def extract_frames(video_path, frame_numbers):\n",
    "    cap = cv2.VideoCapture(video_path)\n",
    "    frames = []\n",
    "    \n",
    "    while True:\n",
    "        ret, frame = cap.read()\n",
    "        if not ret:\n",
    "            break\n",
    "        \n",
    "        frame_number = int(cap.get(cv2.CAP_PROP_POS_FRAMES))\n",
    "        if frame_number in frame_numbers:\n",
    "            frames.append(frame)\n",
    "        \n",
    "        if len(frames) == len(frame_numbers):\n",
    "            break\n",
    "    \n",
    "    cap.release()\n",
    "    return frames\n",
    "\n",
    "# Example usage\n",
    "video_path = \"/Users/jatavathpavannaik/Documents/python/Computer_Vision/Booking.com.mov\"\n",
    "frame_numbers = Frames_to_Delete\n",
    "extracted_frames = extract_frames(video_path, frame_numbers)\n",
    "\n",
    "# Do something with the extracted frames, such as saving them or further processing\n",
    "# For example, to save the frames as images:\n",
    "for i, frame in enumerate(extracted_frames):\n",
    "    cv2.imwrite(f\"/Users/jatavathpavannaik/Documents/python/Computer_Vision/Exports/Extracted_Frames/frame_{frame_numbers[i]}.jpg\", frame)\n"
   ]
  },
  {
   "cell_type": "code",
   "execution_count": null,
   "metadata": {},
   "outputs": [],
   "source": [
    "import cv2\n",
    "\n",
    "def delete_frames(input_video_path, output_video_path, frames_to_delete):\n",
    "    cap = cv2.VideoCapture(input_video_path)\n",
    "    fps = cap.get(cv2.CAP_PROP_FPS)\n",
    "    frame_width = int(cap.get(cv2.CAP_PROP_FRAME_WIDTH))\n",
    "    frame_height = int(cap.get(cv2.CAP_PROP_FRAME_HEIGHT))\n",
    "\n",
    "    out = cv2.VideoWriter(output_video_path, cv2.VideoWriter_fourcc(*'mp4v'), fps, (frame_width, frame_height))\n",
    "\n",
    "    frame_number = 0\n",
    "\n",
    "    while True:\n",
    "        ret, frame = cap.read()\n",
    "        if not ret:\n",
    "            break\n",
    "\n",
    "        if frame_number not in frames_to_delete:\n",
    "            out.write(frame)\n",
    "\n",
    "        frame_number += 1\n",
    "\n",
    "    cap.release()\n",
    "    out.release()\n",
    "\n",
    "# Example usage\n",
    "input_video_path = \"/Users/jatavathpavannaik/Documents/python/Computer_Vision/Bookin.com_Staganent.mov\"\n",
    "output_video_path = \"/Users/jatavathpavannaik/Documents/python/Computer_Vision/Exports/output_video.mp4\"\n",
    "frames_to_delete = Frames_to_Delete\n",
    "delete_frames(input_video_path, output_video_path, frames_to_delete)\n"
   ]
  },
  {
   "cell_type": "markdown",
   "metadata": {},
   "source": [
    "Delete only Frames Which Are Staganent For Few mintues"
   ]
  },
  {
   "cell_type": "code",
   "execution_count": null,
   "metadata": {},
   "outputs": [],
   "source": [
    "import cv2\n",
    "\n",
    "def find_consecutive_sequence_indices(numbers):\n",
    "    start_index = 0\n",
    "    end_index = 0\n",
    "    result = []\n",
    "\n",
    "    for i in range(1, len(numbers)):\n",
    "        if numbers[i] == numbers[i - 1] + 1:\n",
    "            end_index = i\n",
    "        else:\n",
    "            if end_index - start_index > 0:\n",
    "                result.append((start_index, end_index))\n",
    "            start_index = i\n",
    "            end_index = i\n",
    "\n",
    "    # Check if the last sequence is consecutive\n",
    "    if end_index - start_index > 0:\n",
    "        result.append((start_index, end_index))\n",
    "\n",
    "    return result\n",
    "\n",
    "def delete_frames_in_sequence(input_video_path, output_video_path, sequence_indices):\n",
    "    cap = cv2.VideoCapture(input_video_path)\n",
    "    fps = cap.get(cv2.CAP_PROP_FPS)\n",
    "    frame_width = int(cap.get(cv2.CAP_PROP_FRAME_WIDTH))\n",
    "    frame_height = int(cap.get(cv2.CAP_PROP_FRAME_HEIGHT))\n",
    "\n",
    "    out = cv2.VideoWriter(output_video_path, cv2.VideoWriter_fourcc(*'mp4v'), fps, (frame_width, frame_height))\n",
    "\n",
    "    frame_number = 0\n",
    "\n",
    "    while True:\n",
    "        ret, frame = cap.read()\n",
    "        if not ret:\n",
    "            break\n",
    "\n",
    "        # Check if the current frame number is within any of the sequence ranges\n",
    "        for start, end in sequence_indices:\n",
    "            if start <= frame_number <= end:\n",
    "                break  # Skip writing the frame if it falls within a sequence\n",
    "        else:\n",
    "            out.write(frame)\n",
    "\n",
    "        frame_number += 1\n",
    "\n",
    "    cap.release()\n",
    "    out.release()\n",
    "\n",
    "# Example usage\n",
    "input_video_path = \"/Users/jatavathpavannaik/Documents/python/Computer_Vision/Bookin.com_Staganent.mov\"\n",
    "output_video_path = \"/Users/jatavathpavannaik/Documents/python/Computer_Vision/Exports/output_video.mp4\"\n",
    "numbers=desired_df[\"Frame\"].tolist()\n",
    "sequence_indices = find_consecutive_sequence_indices(numbers)\n",
    "delete_frames_in_sequence(input_video_path, output_video_path, sequence_indices)\n"
   ]
  }
 ],
 "metadata": {
  "kernelspec": {
   "display_name": "Computer-Vision",
   "language": "python",
   "name": "python3"
  },
  "language_info": {
   "codemirror_mode": {
    "name": "ipython",
    "version": 3
   },
   "file_extension": ".py",
   "mimetype": "text/x-python",
   "name": "python",
   "nbconvert_exporter": "python",
   "pygments_lexer": "ipython3",
   "version": "3.11.9"
  },
  "orig_nbformat": 4
 },
 "nbformat": 4,
 "nbformat_minor": 2
}
